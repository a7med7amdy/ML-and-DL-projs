{
 "cells": [
  {
   "cell_type": "code",
   "execution_count": 1,
   "metadata": {},
   "outputs": [],
   "source": [
    "import requests\n",
    "from bs4 import BeautifulSoup\n",
    "from urllib.request import urlopen\n",
    "import urllib.request\n",
    "import re\n",
    "import os"
   ]
  },
  {
   "cell_type": "code",
   "execution_count": 2,
   "metadata": {},
   "outputs": [
    {
     "name": "stdout",
     "output_type": "stream",
     "text": [
      "[['Jack', 'Nicholson'], ['Charlton', 'Heston'], ['Humphrey', 'Bogart'], ['James', 'Stewart'], ['Lorne', 'Greene'], ['Michael', 'Landon'], ['Tom', 'Hanks'], ['Clint', 'Eastwood'], ['Al', 'Pacino'], ['James', 'Arness'], ['Henry', 'Fonda'], ['Sidney', 'Poitier'], ['Jim', 'Carrey'], ['Michael', 'Douglas'], ['Kirk', 'Douglas'], ['Rita', 'Hayworth'], ['Shirley', 'Temple'], ['William', 'Devane'], ['Gregory', 'Peck'], ['Elizabeth', 'Taylor'], ['Barbara', 'Stanwyck'], ['Judy', 'Garland'], ['Dennis', 'Quaid'], ['Pernell', 'Roberts'], ['Anthony', 'Hopkins'], ['Patrick', 'Swayze'], ['Mickey', 'Rooney'], ['Larry', 'Hagman'], ['Barbara', 'Eden'], ['Farrah', 'Fawcett'], ['Kevin', 'Costner'], ['Will', 'Smith'], ['Robin', 'Williams'], ['Orson', 'Welles'], ['Cary', 'Grant'], ['Gary', 'Cooper'], ['Laurence', 'Olivier'], ['Chishû', 'Ryû'], ['Peter', 'Lawford'], ['Burt', 'Lancaster'], ['Edmund', 'Gwenn'], ['Donna', 'Mills'], [], ['Buddy', 'Ebsen'], ['Lucille', 'Ball'], ['Doris', 'Day'], ['Paula', 'Prentiss'], ['Marilyn', 'Monroe'], ['Bette', 'Davis'], ['Joan', 'Crawford'], ['John', 'Wayne'], ['Will', 'Geer'], ['Michael', 'Learned'], ['Bill', 'Bixby'], ['Sylvester', 'Stallone'], ['Charles', 'Bronson'], ['Michael', 'Keaton'], ['James', 'Brolin'], ['Goldie', 'Hawn'], ['Barbra', 'Streisand'], ['Whoopi', 'Goldberg'], ['Tamara', 'Brown'], ['Angela', 'Lansbury'], ['Betty', 'White'], ['Cesar', 'Romero'], ['Richard', 'Boone'], ['Michael', 'J.', 'Fox'], ['Christopher', 'Reeve'], ['William', 'Shatner'], ['Mel', 'Gibson'], ['Gary', 'Coleman'], ['Jerry', 'Lewis'], ['Eddie', 'Albert'], ['Audrey', 'Hepburn'], ['Elizabeth', 'Montgomery'], ['Morgan', 'Freeman'], ['Melissa', 'Gilbert'], ['Gypsy', 'Rose', 'Lee'], ['Maurice', 'Benard'], ['Jeanne', 'Cooper'], ['Glenn', 'Close'], ['Art', 'Carney'], ['Edward', 'Asner'], ['Sally', 'Field'], ['Lee', 'Majors'], ['Danny', 'DeVito'], ['Emily', 'VanCamp'], ['Raymond', 'Burr'], ['Nicolas', 'Cage'], ['Andy', 'Griffith'], ['Elvis', 'Presley'], ['Ralph', 'Waite'], ['Gene', 'Autry'], ['Grace', 'Kelly'], ['Frank', 'Sinatra'], ['Tony', 'Randall'], ['Jack', 'Klugman'], ['Morgan', 'Fairchild'], ['Julia', 'Roberts'], ['Adam', 'Sandler'], ['Drew', 'Barrymore']]\n"
     ]
    }
   ],
   "source": [
    "result = requests.get(\"https://www.imdb.com/list/ls077869862/\")\n",
    "\n",
    "src = result.content\n",
    "\n",
    "soup = BeautifulSoup(src, 'lxml')\n",
    "\n",
    "links = soup.find_all(\"a\")\n",
    "\n",
    "names=[]\n",
    "f=1\n",
    "for i,link in enumerate(links):\n",
    "    if i>=61 and f==1:\n",
    "        names.append(link.getText().split())\n",
    "        f=0\n",
    "    if i>=61:\n",
    "        if(link.getText().split()==[]):\n",
    "            f=1\n",
    "    if(link.getText().split()==['Drew', 'Barrymore']):\n",
    "        break\n",
    "        \n",
    "print(names)\n"
   ]
  },
  {
   "cell_type": "code",
   "execution_count": 3,
   "metadata": {},
   "outputs": [
    {
     "name": "stdout",
     "output_type": "stream",
     "text": [
      "[['Gene', 'Hackman'], ['Alan', 'Alda'], ['Mary', 'Tyler', 'Moore'], ['Dick', 'Van', 'Dyke'], ['Kurt', 'Russell'], ['James', 'Cagney'], ['Amanda', 'Blake'], ['June', 'Lockhart'], ['Judy', 'Sheindlin'], ['Jake', 'Gyllenhaal'], ['Tom', 'Selleck'], ['Eric', 'Braeden'], ['Meryl', 'Streep'], ['Susan', 'Sarandon'], ['Geena', 'Davis'], ['Keanu', 'Reeves'], ['Ronald', 'Reagan'], ['Denzel', 'Washington'], ['Harrison', 'Ford'], ['Richard', 'Gere'], ['Demi', 'Moore'], ['Bob', 'Denver'], ['Glenn', 'Ford'], ['Peter', 'Sellers'], ['Alan', 'Ladd'], ['Fred', 'MacMurray'], ['Judy', 'Holliday'], ['Spencer', 'Tracy'], ['Steve', 'McQueen'], ['Jean', 'Arthur'], ['Kate', 'Jackson'], ['Carole', 'Lombard'], ['Van', 'Johnson'], ['Lindsay', 'Wagner'], ['Ann', 'B.', 'Davis'], ['Allan', 'Melvin'], ['Julie', 'Harris'], ['Michele', 'Lee'], ['Kevin', 'Dobson'], ['Alec', 'Baldwin'], ['Jonathan', 'Harris'], ['David', 'Carradine'], [], ['Sam', 'Elliott'], ['Robert', 'Mitchum'], ['Paul', 'Newman'], ['James', 'Garner'], ['Jack', 'Palance'], ['Rock', 'Hudson'], ['Errol', 'Flynn'], ['Brian', 'Keith'], ['Sam', 'Shepard'], ['Ernest', 'Borgnine'], ['Jack', 'Elam'], ['Yul', 'Brynner'], ['Diane', 'Keaton'], ['Richard', 'Dreyfuss'], ['Leonardo', 'DiCaprio'], ['Fred', 'MacMurray'], ['Donna', 'Reed'], ['Shirley', 'Booth'], ['Don', 'Knotts'], ['Tom', 'Laughlin']]\n"
     ]
    }
   ],
   "source": [
    "    \n",
    "result = requests.get(\"https://www.imdb.com/list/ls077869862/?sort=list_order,asc&mode=detail&page=2\")\n",
    "\n",
    "src = result.content\n",
    "\n",
    "soup = BeautifulSoup(src, 'lxml')\n",
    "\n",
    "links = soup.find_all(\"a\")\n",
    "\n",
    "names2=[]\n",
    "f=1\n",
    "for i,link in enumerate(links):\n",
    "    if i>=61 and f==1:\n",
    "        names2.append(link.getText().split())\n",
    "        f=0\n",
    "    if i>=61:\n",
    "        if(link.getText().split()==[]):\n",
    "            f=1\n",
    "    if(link.getText().split()==['Tom', 'Laughlin']):\n",
    "        break\n",
    "        \n",
    "print(names2)"
   ]
  },
  {
   "cell_type": "code",
   "execution_count": 4,
   "metadata": {},
   "outputs": [
    {
     "name": "stdout",
     "output_type": "stream",
     "text": [
      "164\n",
      "[['Jack', 'Nicholson'], ['Charlton', 'Heston'], ['Humphrey', 'Bogart'], ['James', 'Stewart'], ['Lorne', 'Greene'], ['Michael', 'Landon'], ['Tom', 'Hanks'], ['Clint', 'Eastwood'], ['Al', 'Pacino'], ['James', 'Arness'], ['Henry', 'Fonda'], ['Sidney', 'Poitier'], ['Jim', 'Carrey'], ['Michael', 'Douglas'], ['Kirk', 'Douglas'], ['Rita', 'Hayworth'], ['Shirley', 'Temple'], ['William', 'Devane'], ['Gregory', 'Peck'], ['Elizabeth', 'Taylor'], ['Barbara', 'Stanwyck'], ['Judy', 'Garland'], ['Dennis', 'Quaid'], ['Pernell', 'Roberts'], ['Anthony', 'Hopkins'], ['Patrick', 'Swayze'], ['Mickey', 'Rooney'], ['Larry', 'Hagman'], ['Barbara', 'Eden'], ['Farrah', 'Fawcett'], ['Kevin', 'Costner'], ['Will', 'Smith'], ['Robin', 'Williams'], ['Orson', 'Welles'], ['Cary', 'Grant'], ['Gary', 'Cooper'], ['Laurence', 'Olivier'], ['Chishû', 'Ryû'], ['Peter', 'Lawford'], ['Burt', 'Lancaster'], ['Edmund', 'Gwenn'], ['Donna', 'Mills'], [], ['Buddy', 'Ebsen'], ['Lucille', 'Ball'], ['Doris', 'Day'], ['Paula', 'Prentiss'], ['Marilyn', 'Monroe'], ['Bette', 'Davis'], ['Joan', 'Crawford'], ['John', 'Wayne'], ['Will', 'Geer'], ['Michael', 'Learned'], ['Bill', 'Bixby'], ['Sylvester', 'Stallone'], ['Charles', 'Bronson'], ['Michael', 'Keaton'], ['James', 'Brolin'], ['Goldie', 'Hawn'], ['Barbra', 'Streisand'], ['Whoopi', 'Goldberg'], ['Tamara', 'Brown'], ['Angela', 'Lansbury'], ['Betty', 'White'], ['Cesar', 'Romero'], ['Richard', 'Boone'], ['Michael', 'J.', 'Fox'], ['Christopher', 'Reeve'], ['William', 'Shatner'], ['Mel', 'Gibson'], ['Gary', 'Coleman'], ['Jerry', 'Lewis'], ['Eddie', 'Albert'], ['Audrey', 'Hepburn'], ['Elizabeth', 'Montgomery'], ['Morgan', 'Freeman'], ['Melissa', 'Gilbert'], ['Gypsy', 'Rose', 'Lee'], ['Maurice', 'Benard'], ['Jeanne', 'Cooper'], ['Glenn', 'Close'], ['Art', 'Carney'], ['Edward', 'Asner'], ['Sally', 'Field'], ['Lee', 'Majors'], ['Danny', 'DeVito'], ['Emily', 'VanCamp'], ['Raymond', 'Burr'], ['Nicolas', 'Cage'], ['Andy', 'Griffith'], ['Elvis', 'Presley'], ['Ralph', 'Waite'], ['Gene', 'Autry'], ['Grace', 'Kelly'], ['Frank', 'Sinatra'], ['Tony', 'Randall'], ['Jack', 'Klugman'], ['Morgan', 'Fairchild'], ['Julia', 'Roberts'], ['Adam', 'Sandler'], ['Drew', 'Barrymore'], ['Gene', 'Hackman'], ['Alan', 'Alda'], ['Mary', 'Tyler', 'Moore'], ['Dick', 'Van', 'Dyke'], ['Kurt', 'Russell'], ['James', 'Cagney'], ['Amanda', 'Blake'], ['June', 'Lockhart'], ['Judy', 'Sheindlin'], ['Jake', 'Gyllenhaal'], ['Tom', 'Selleck'], ['Eric', 'Braeden'], ['Meryl', 'Streep'], ['Susan', 'Sarandon'], ['Geena', 'Davis'], ['Keanu', 'Reeves'], ['Ronald', 'Reagan'], ['Denzel', 'Washington'], ['Harrison', 'Ford'], ['Richard', 'Gere'], ['Demi', 'Moore'], ['Bob', 'Denver'], ['Glenn', 'Ford'], ['Peter', 'Sellers'], ['Alan', 'Ladd'], ['Fred', 'MacMurray'], ['Judy', 'Holliday'], ['Spencer', 'Tracy'], ['Steve', 'McQueen'], ['Jean', 'Arthur'], ['Kate', 'Jackson'], ['Carole', 'Lombard'], ['Van', 'Johnson'], ['Lindsay', 'Wagner'], ['Ann', 'B.', 'Davis'], ['Allan', 'Melvin'], ['Julie', 'Harris'], ['Michele', 'Lee'], ['Kevin', 'Dobson'], ['Alec', 'Baldwin'], ['Jonathan', 'Harris'], ['David', 'Carradine'], [], ['Sam', 'Elliott'], ['Robert', 'Mitchum'], ['Paul', 'Newman'], ['James', 'Garner'], ['Jack', 'Palance'], ['Rock', 'Hudson'], ['Errol', 'Flynn'], ['Brian', 'Keith'], ['Sam', 'Shepard'], ['Ernest', 'Borgnine'], ['Jack', 'Elam'], ['Yul', 'Brynner'], ['Diane', 'Keaton'], ['Richard', 'Dreyfuss'], ['Leonardo', 'DiCaprio'], ['Fred', 'MacMurray'], ['Donna', 'Reed'], ['Shirley', 'Booth'], ['Don', 'Knotts'], ['Tom', 'Laughlin']]\n"
     ]
    }
   ],
   "source": [
    "names_final=names+names2\n",
    "print(len(names_final))\n",
    "print(names_final)"
   ]
  },
  {
   "cell_type": "code",
   "execution_count": 6,
   "metadata": {},
   "outputs": [
    {
     "name": "stdout",
     "output_type": "stream",
     "text": [
      "/home/ahmed/intern work/actor web scrapping/Jack Nicholson\n",
      "60\n",
      "/home/ahmed/intern work/actor web scrapping\n",
      "/home/ahmed/intern work/actor web scrapping/Charlton Heston\n"
     ]
    },
    {
     "ename": "KeyboardInterrupt",
     "evalue": "",
     "output_type": "error",
     "traceback": [
      "\u001b[0;31m---------------------------------------------------------------------------\u001b[0m",
      "\u001b[0;31mKeyboardInterrupt\u001b[0m                         Traceback (most recent call last)",
      "\u001b[0;32m<ipython-input-6-690d8d8800db>\u001b[0m in \u001b[0;36m<module>\u001b[0;34m\u001b[0m\n\u001b[1;32m     14\u001b[0m     \u001b[0mpage\u001b[0m\u001b[0;34m+=\u001b[0m\u001b[0;34m\"&sort=mostpopular\"\u001b[0m\u001b[0;34m\u001b[0m\u001b[0;34m\u001b[0m\u001b[0m\n\u001b[1;32m     15\u001b[0m     \u001b[0mprint\u001b[0m\u001b[0;34m(\u001b[0m\u001b[0mos\u001b[0m\u001b[0;34m.\u001b[0m\u001b[0mgetcwd\u001b[0m\u001b[0;34m(\u001b[0m\u001b[0;34m)\u001b[0m\u001b[0;34m)\u001b[0m\u001b[0;34m\u001b[0m\u001b[0;34m\u001b[0m\u001b[0m\n\u001b[0;32m---> 16\u001b[0;31m     \u001b[0mhtml\u001b[0m \u001b[0;34m=\u001b[0m \u001b[0murlopen\u001b[0m\u001b[0;34m(\u001b[0m\u001b[0mpage\u001b[0m\u001b[0;34m)\u001b[0m\u001b[0;34m\u001b[0m\u001b[0;34m\u001b[0m\u001b[0m\n\u001b[0m\u001b[1;32m     17\u001b[0m     \u001b[0mbs\u001b[0m \u001b[0;34m=\u001b[0m \u001b[0mBeautifulSoup\u001b[0m\u001b[0;34m(\u001b[0m\u001b[0mhtml\u001b[0m\u001b[0;34m,\u001b[0m \u001b[0;34m'html.parser'\u001b[0m\u001b[0;34m)\u001b[0m\u001b[0;34m\u001b[0m\u001b[0;34m\u001b[0m\u001b[0m\n\u001b[1;32m     18\u001b[0m     \u001b[0mimages\u001b[0m \u001b[0;34m=\u001b[0m \u001b[0mbs\u001b[0m\u001b[0;34m.\u001b[0m\u001b[0mfind_all\u001b[0m\u001b[0;34m(\u001b[0m\u001b[0;34m'img'\u001b[0m\u001b[0;34m,\u001b[0m \u001b[0;34m{\u001b[0m\u001b[0;34m'src'\u001b[0m\u001b[0;34m:\u001b[0m\u001b[0mre\u001b[0m\u001b[0;34m.\u001b[0m\u001b[0mcompile\u001b[0m\u001b[0;34m(\u001b[0m\u001b[0;34m'='\u001b[0m\u001b[0;34m)\u001b[0m\u001b[0;34m}\u001b[0m\u001b[0;34m)\u001b[0m\u001b[0;34m\u001b[0m\u001b[0;34m\u001b[0m\u001b[0m\n",
      "\u001b[0;32m~/anaconda3/lib/python3.8/urllib/request.py\u001b[0m in \u001b[0;36murlopen\u001b[0;34m(url, data, timeout, cafile, capath, cadefault, context)\u001b[0m\n\u001b[1;32m    220\u001b[0m     \u001b[0;32melse\u001b[0m\u001b[0;34m:\u001b[0m\u001b[0;34m\u001b[0m\u001b[0;34m\u001b[0m\u001b[0m\n\u001b[1;32m    221\u001b[0m         \u001b[0mopener\u001b[0m \u001b[0;34m=\u001b[0m \u001b[0m_opener\u001b[0m\u001b[0;34m\u001b[0m\u001b[0;34m\u001b[0m\u001b[0m\n\u001b[0;32m--> 222\u001b[0;31m     \u001b[0;32mreturn\u001b[0m \u001b[0mopener\u001b[0m\u001b[0;34m.\u001b[0m\u001b[0mopen\u001b[0m\u001b[0;34m(\u001b[0m\u001b[0murl\u001b[0m\u001b[0;34m,\u001b[0m \u001b[0mdata\u001b[0m\u001b[0;34m,\u001b[0m \u001b[0mtimeout\u001b[0m\u001b[0;34m)\u001b[0m\u001b[0;34m\u001b[0m\u001b[0;34m\u001b[0m\u001b[0m\n\u001b[0m\u001b[1;32m    223\u001b[0m \u001b[0;34m\u001b[0m\u001b[0m\n\u001b[1;32m    224\u001b[0m \u001b[0;32mdef\u001b[0m \u001b[0minstall_opener\u001b[0m\u001b[0;34m(\u001b[0m\u001b[0mopener\u001b[0m\u001b[0;34m)\u001b[0m\u001b[0;34m:\u001b[0m\u001b[0;34m\u001b[0m\u001b[0;34m\u001b[0m\u001b[0m\n",
      "\u001b[0;32m~/anaconda3/lib/python3.8/urllib/request.py\u001b[0m in \u001b[0;36mopen\u001b[0;34m(self, fullurl, data, timeout)\u001b[0m\n\u001b[1;32m    523\u001b[0m \u001b[0;34m\u001b[0m\u001b[0m\n\u001b[1;32m    524\u001b[0m         \u001b[0msys\u001b[0m\u001b[0;34m.\u001b[0m\u001b[0maudit\u001b[0m\u001b[0;34m(\u001b[0m\u001b[0;34m'urllib.Request'\u001b[0m\u001b[0;34m,\u001b[0m \u001b[0mreq\u001b[0m\u001b[0;34m.\u001b[0m\u001b[0mfull_url\u001b[0m\u001b[0;34m,\u001b[0m \u001b[0mreq\u001b[0m\u001b[0;34m.\u001b[0m\u001b[0mdata\u001b[0m\u001b[0;34m,\u001b[0m \u001b[0mreq\u001b[0m\u001b[0;34m.\u001b[0m\u001b[0mheaders\u001b[0m\u001b[0;34m,\u001b[0m \u001b[0mreq\u001b[0m\u001b[0;34m.\u001b[0m\u001b[0mget_method\u001b[0m\u001b[0;34m(\u001b[0m\u001b[0;34m)\u001b[0m\u001b[0;34m)\u001b[0m\u001b[0;34m\u001b[0m\u001b[0;34m\u001b[0m\u001b[0m\n\u001b[0;32m--> 525\u001b[0;31m         \u001b[0mresponse\u001b[0m \u001b[0;34m=\u001b[0m \u001b[0mself\u001b[0m\u001b[0;34m.\u001b[0m\u001b[0m_open\u001b[0m\u001b[0;34m(\u001b[0m\u001b[0mreq\u001b[0m\u001b[0;34m,\u001b[0m \u001b[0mdata\u001b[0m\u001b[0;34m)\u001b[0m\u001b[0;34m\u001b[0m\u001b[0;34m\u001b[0m\u001b[0m\n\u001b[0m\u001b[1;32m    526\u001b[0m \u001b[0;34m\u001b[0m\u001b[0m\n\u001b[1;32m    527\u001b[0m         \u001b[0;31m# post-process response\u001b[0m\u001b[0;34m\u001b[0m\u001b[0;34m\u001b[0m\u001b[0;34m\u001b[0m\u001b[0m\n",
      "\u001b[0;32m~/anaconda3/lib/python3.8/urllib/request.py\u001b[0m in \u001b[0;36m_open\u001b[0;34m(self, req, data)\u001b[0m\n\u001b[1;32m    540\u001b[0m \u001b[0;34m\u001b[0m\u001b[0m\n\u001b[1;32m    541\u001b[0m         \u001b[0mprotocol\u001b[0m \u001b[0;34m=\u001b[0m \u001b[0mreq\u001b[0m\u001b[0;34m.\u001b[0m\u001b[0mtype\u001b[0m\u001b[0;34m\u001b[0m\u001b[0;34m\u001b[0m\u001b[0m\n\u001b[0;32m--> 542\u001b[0;31m         result = self._call_chain(self.handle_open, protocol, protocol +\n\u001b[0m\u001b[1;32m    543\u001b[0m                                   '_open', req)\n\u001b[1;32m    544\u001b[0m         \u001b[0;32mif\u001b[0m \u001b[0mresult\u001b[0m\u001b[0;34m:\u001b[0m\u001b[0;34m\u001b[0m\u001b[0;34m\u001b[0m\u001b[0m\n",
      "\u001b[0;32m~/anaconda3/lib/python3.8/urllib/request.py\u001b[0m in \u001b[0;36m_call_chain\u001b[0;34m(self, chain, kind, meth_name, *args)\u001b[0m\n\u001b[1;32m    500\u001b[0m         \u001b[0;32mfor\u001b[0m \u001b[0mhandler\u001b[0m \u001b[0;32min\u001b[0m \u001b[0mhandlers\u001b[0m\u001b[0;34m:\u001b[0m\u001b[0;34m\u001b[0m\u001b[0;34m\u001b[0m\u001b[0m\n\u001b[1;32m    501\u001b[0m             \u001b[0mfunc\u001b[0m \u001b[0;34m=\u001b[0m \u001b[0mgetattr\u001b[0m\u001b[0;34m(\u001b[0m\u001b[0mhandler\u001b[0m\u001b[0;34m,\u001b[0m \u001b[0mmeth_name\u001b[0m\u001b[0;34m)\u001b[0m\u001b[0;34m\u001b[0m\u001b[0;34m\u001b[0m\u001b[0m\n\u001b[0;32m--> 502\u001b[0;31m             \u001b[0mresult\u001b[0m \u001b[0;34m=\u001b[0m \u001b[0mfunc\u001b[0m\u001b[0;34m(\u001b[0m\u001b[0;34m*\u001b[0m\u001b[0margs\u001b[0m\u001b[0;34m)\u001b[0m\u001b[0;34m\u001b[0m\u001b[0;34m\u001b[0m\u001b[0m\n\u001b[0m\u001b[1;32m    503\u001b[0m             \u001b[0;32mif\u001b[0m \u001b[0mresult\u001b[0m \u001b[0;32mis\u001b[0m \u001b[0;32mnot\u001b[0m \u001b[0;32mNone\u001b[0m\u001b[0;34m:\u001b[0m\u001b[0;34m\u001b[0m\u001b[0;34m\u001b[0m\u001b[0m\n\u001b[1;32m    504\u001b[0m                 \u001b[0;32mreturn\u001b[0m \u001b[0mresult\u001b[0m\u001b[0;34m\u001b[0m\u001b[0;34m\u001b[0m\u001b[0m\n",
      "\u001b[0;32m~/anaconda3/lib/python3.8/urllib/request.py\u001b[0m in \u001b[0;36mhttps_open\u001b[0;34m(self, req)\u001b[0m\n\u001b[1;32m   1391\u001b[0m \u001b[0;34m\u001b[0m\u001b[0m\n\u001b[1;32m   1392\u001b[0m         \u001b[0;32mdef\u001b[0m \u001b[0mhttps_open\u001b[0m\u001b[0;34m(\u001b[0m\u001b[0mself\u001b[0m\u001b[0;34m,\u001b[0m \u001b[0mreq\u001b[0m\u001b[0;34m)\u001b[0m\u001b[0;34m:\u001b[0m\u001b[0;34m\u001b[0m\u001b[0;34m\u001b[0m\u001b[0m\n\u001b[0;32m-> 1393\u001b[0;31m             return self.do_open(http.client.HTTPSConnection, req,\n\u001b[0m\u001b[1;32m   1394\u001b[0m                 context=self._context, check_hostname=self._check_hostname)\n\u001b[1;32m   1395\u001b[0m \u001b[0;34m\u001b[0m\u001b[0m\n",
      "\u001b[0;32m~/anaconda3/lib/python3.8/urllib/request.py\u001b[0m in \u001b[0;36mdo_open\u001b[0;34m(self, http_class, req, **http_conn_args)\u001b[0m\n\u001b[1;32m   1348\u001b[0m         \u001b[0;32mtry\u001b[0m\u001b[0;34m:\u001b[0m\u001b[0;34m\u001b[0m\u001b[0;34m\u001b[0m\u001b[0m\n\u001b[1;32m   1349\u001b[0m             \u001b[0;32mtry\u001b[0m\u001b[0;34m:\u001b[0m\u001b[0;34m\u001b[0m\u001b[0;34m\u001b[0m\u001b[0m\n\u001b[0;32m-> 1350\u001b[0;31m                 h.request(req.get_method(), req.selector, req.data, headers,\n\u001b[0m\u001b[1;32m   1351\u001b[0m                           encode_chunked=req.has_header('Transfer-encoding'))\n\u001b[1;32m   1352\u001b[0m             \u001b[0;32mexcept\u001b[0m \u001b[0mOSError\u001b[0m \u001b[0;32mas\u001b[0m \u001b[0merr\u001b[0m\u001b[0;34m:\u001b[0m \u001b[0;31m# timeout error\u001b[0m\u001b[0;34m\u001b[0m\u001b[0;34m\u001b[0m\u001b[0m\n",
      "\u001b[0;32m~/anaconda3/lib/python3.8/http/client.py\u001b[0m in \u001b[0;36mrequest\u001b[0;34m(self, method, url, body, headers, encode_chunked)\u001b[0m\n\u001b[1;32m   1238\u001b[0m                 encode_chunked=False):\n\u001b[1;32m   1239\u001b[0m         \u001b[0;34m\"\"\"Send a complete request to the server.\"\"\"\u001b[0m\u001b[0;34m\u001b[0m\u001b[0;34m\u001b[0m\u001b[0m\n\u001b[0;32m-> 1240\u001b[0;31m         \u001b[0mself\u001b[0m\u001b[0;34m.\u001b[0m\u001b[0m_send_request\u001b[0m\u001b[0;34m(\u001b[0m\u001b[0mmethod\u001b[0m\u001b[0;34m,\u001b[0m \u001b[0murl\u001b[0m\u001b[0;34m,\u001b[0m \u001b[0mbody\u001b[0m\u001b[0;34m,\u001b[0m \u001b[0mheaders\u001b[0m\u001b[0;34m,\u001b[0m \u001b[0mencode_chunked\u001b[0m\u001b[0;34m)\u001b[0m\u001b[0;34m\u001b[0m\u001b[0;34m\u001b[0m\u001b[0m\n\u001b[0m\u001b[1;32m   1241\u001b[0m \u001b[0;34m\u001b[0m\u001b[0m\n\u001b[1;32m   1242\u001b[0m     \u001b[0;32mdef\u001b[0m \u001b[0m_send_request\u001b[0m\u001b[0;34m(\u001b[0m\u001b[0mself\u001b[0m\u001b[0;34m,\u001b[0m \u001b[0mmethod\u001b[0m\u001b[0;34m,\u001b[0m \u001b[0murl\u001b[0m\u001b[0;34m,\u001b[0m \u001b[0mbody\u001b[0m\u001b[0;34m,\u001b[0m \u001b[0mheaders\u001b[0m\u001b[0;34m,\u001b[0m \u001b[0mencode_chunked\u001b[0m\u001b[0;34m)\u001b[0m\u001b[0;34m:\u001b[0m\u001b[0;34m\u001b[0m\u001b[0;34m\u001b[0m\u001b[0m\n",
      "\u001b[0;32m~/anaconda3/lib/python3.8/http/client.py\u001b[0m in \u001b[0;36m_send_request\u001b[0;34m(self, method, url, body, headers, encode_chunked)\u001b[0m\n\u001b[1;32m   1284\u001b[0m             \u001b[0;31m# default charset of iso-8859-1.\u001b[0m\u001b[0;34m\u001b[0m\u001b[0;34m\u001b[0m\u001b[0;34m\u001b[0m\u001b[0m\n\u001b[1;32m   1285\u001b[0m             \u001b[0mbody\u001b[0m \u001b[0;34m=\u001b[0m \u001b[0m_encode\u001b[0m\u001b[0;34m(\u001b[0m\u001b[0mbody\u001b[0m\u001b[0;34m,\u001b[0m \u001b[0;34m'body'\u001b[0m\u001b[0;34m)\u001b[0m\u001b[0;34m\u001b[0m\u001b[0;34m\u001b[0m\u001b[0m\n\u001b[0;32m-> 1286\u001b[0;31m         \u001b[0mself\u001b[0m\u001b[0;34m.\u001b[0m\u001b[0mendheaders\u001b[0m\u001b[0;34m(\u001b[0m\u001b[0mbody\u001b[0m\u001b[0;34m,\u001b[0m \u001b[0mencode_chunked\u001b[0m\u001b[0;34m=\u001b[0m\u001b[0mencode_chunked\u001b[0m\u001b[0;34m)\u001b[0m\u001b[0;34m\u001b[0m\u001b[0;34m\u001b[0m\u001b[0m\n\u001b[0m\u001b[1;32m   1287\u001b[0m \u001b[0;34m\u001b[0m\u001b[0m\n\u001b[1;32m   1288\u001b[0m     \u001b[0;32mdef\u001b[0m \u001b[0mgetresponse\u001b[0m\u001b[0;34m(\u001b[0m\u001b[0mself\u001b[0m\u001b[0;34m)\u001b[0m\u001b[0;34m:\u001b[0m\u001b[0;34m\u001b[0m\u001b[0;34m\u001b[0m\u001b[0m\n",
      "\u001b[0;32m~/anaconda3/lib/python3.8/http/client.py\u001b[0m in \u001b[0;36mendheaders\u001b[0;34m(self, message_body, encode_chunked)\u001b[0m\n\u001b[1;32m   1233\u001b[0m         \u001b[0;32melse\u001b[0m\u001b[0;34m:\u001b[0m\u001b[0;34m\u001b[0m\u001b[0;34m\u001b[0m\u001b[0m\n\u001b[1;32m   1234\u001b[0m             \u001b[0;32mraise\u001b[0m \u001b[0mCannotSendHeader\u001b[0m\u001b[0;34m(\u001b[0m\u001b[0;34m)\u001b[0m\u001b[0;34m\u001b[0m\u001b[0;34m\u001b[0m\u001b[0m\n\u001b[0;32m-> 1235\u001b[0;31m         \u001b[0mself\u001b[0m\u001b[0;34m.\u001b[0m\u001b[0m_send_output\u001b[0m\u001b[0;34m(\u001b[0m\u001b[0mmessage_body\u001b[0m\u001b[0;34m,\u001b[0m \u001b[0mencode_chunked\u001b[0m\u001b[0;34m=\u001b[0m\u001b[0mencode_chunked\u001b[0m\u001b[0;34m)\u001b[0m\u001b[0;34m\u001b[0m\u001b[0;34m\u001b[0m\u001b[0m\n\u001b[0m\u001b[1;32m   1236\u001b[0m \u001b[0;34m\u001b[0m\u001b[0m\n\u001b[1;32m   1237\u001b[0m     def request(self, method, url, body=None, headers={}, *,\n",
      "\u001b[0;32m~/anaconda3/lib/python3.8/http/client.py\u001b[0m in \u001b[0;36m_send_output\u001b[0;34m(self, message_body, encode_chunked)\u001b[0m\n\u001b[1;32m   1004\u001b[0m         \u001b[0mmsg\u001b[0m \u001b[0;34m=\u001b[0m \u001b[0;34mb\"\\r\\n\"\u001b[0m\u001b[0;34m.\u001b[0m\u001b[0mjoin\u001b[0m\u001b[0;34m(\u001b[0m\u001b[0mself\u001b[0m\u001b[0;34m.\u001b[0m\u001b[0m_buffer\u001b[0m\u001b[0;34m)\u001b[0m\u001b[0;34m\u001b[0m\u001b[0;34m\u001b[0m\u001b[0m\n\u001b[1;32m   1005\u001b[0m         \u001b[0;32mdel\u001b[0m \u001b[0mself\u001b[0m\u001b[0;34m.\u001b[0m\u001b[0m_buffer\u001b[0m\u001b[0;34m[\u001b[0m\u001b[0;34m:\u001b[0m\u001b[0;34m]\u001b[0m\u001b[0;34m\u001b[0m\u001b[0;34m\u001b[0m\u001b[0m\n\u001b[0;32m-> 1006\u001b[0;31m         \u001b[0mself\u001b[0m\u001b[0;34m.\u001b[0m\u001b[0msend\u001b[0m\u001b[0;34m(\u001b[0m\u001b[0mmsg\u001b[0m\u001b[0;34m)\u001b[0m\u001b[0;34m\u001b[0m\u001b[0;34m\u001b[0m\u001b[0m\n\u001b[0m\u001b[1;32m   1007\u001b[0m \u001b[0;34m\u001b[0m\u001b[0m\n\u001b[1;32m   1008\u001b[0m         \u001b[0;32mif\u001b[0m \u001b[0mmessage_body\u001b[0m \u001b[0;32mis\u001b[0m \u001b[0;32mnot\u001b[0m \u001b[0;32mNone\u001b[0m\u001b[0;34m:\u001b[0m\u001b[0;34m\u001b[0m\u001b[0;34m\u001b[0m\u001b[0m\n",
      "\u001b[0;32m~/anaconda3/lib/python3.8/http/client.py\u001b[0m in \u001b[0;36msend\u001b[0;34m(self, data)\u001b[0m\n\u001b[1;32m    944\u001b[0m         \u001b[0;32mif\u001b[0m \u001b[0mself\u001b[0m\u001b[0;34m.\u001b[0m\u001b[0msock\u001b[0m \u001b[0;32mis\u001b[0m \u001b[0;32mNone\u001b[0m\u001b[0;34m:\u001b[0m\u001b[0;34m\u001b[0m\u001b[0;34m\u001b[0m\u001b[0m\n\u001b[1;32m    945\u001b[0m             \u001b[0;32mif\u001b[0m \u001b[0mself\u001b[0m\u001b[0;34m.\u001b[0m\u001b[0mauto_open\u001b[0m\u001b[0;34m:\u001b[0m\u001b[0;34m\u001b[0m\u001b[0;34m\u001b[0m\u001b[0m\n\u001b[0;32m--> 946\u001b[0;31m                 \u001b[0mself\u001b[0m\u001b[0;34m.\u001b[0m\u001b[0mconnect\u001b[0m\u001b[0;34m(\u001b[0m\u001b[0;34m)\u001b[0m\u001b[0;34m\u001b[0m\u001b[0;34m\u001b[0m\u001b[0m\n\u001b[0m\u001b[1;32m    947\u001b[0m             \u001b[0;32melse\u001b[0m\u001b[0;34m:\u001b[0m\u001b[0;34m\u001b[0m\u001b[0;34m\u001b[0m\u001b[0m\n\u001b[1;32m    948\u001b[0m                 \u001b[0;32mraise\u001b[0m \u001b[0mNotConnected\u001b[0m\u001b[0;34m(\u001b[0m\u001b[0;34m)\u001b[0m\u001b[0;34m\u001b[0m\u001b[0;34m\u001b[0m\u001b[0m\n",
      "\u001b[0;32m~/anaconda3/lib/python3.8/http/client.py\u001b[0m in \u001b[0;36mconnect\u001b[0;34m(self)\u001b[0m\n\u001b[1;32m   1407\u001b[0m                 \u001b[0mserver_hostname\u001b[0m \u001b[0;34m=\u001b[0m \u001b[0mself\u001b[0m\u001b[0;34m.\u001b[0m\u001b[0mhost\u001b[0m\u001b[0;34m\u001b[0m\u001b[0;34m\u001b[0m\u001b[0m\n\u001b[1;32m   1408\u001b[0m \u001b[0;34m\u001b[0m\u001b[0m\n\u001b[0;32m-> 1409\u001b[0;31m             self.sock = self._context.wrap_socket(self.sock,\n\u001b[0m\u001b[1;32m   1410\u001b[0m                                                   server_hostname=server_hostname)\n\u001b[1;32m   1411\u001b[0m \u001b[0;34m\u001b[0m\u001b[0m\n",
      "\u001b[0;32m~/anaconda3/lib/python3.8/ssl.py\u001b[0m in \u001b[0;36mwrap_socket\u001b[0;34m(self, sock, server_side, do_handshake_on_connect, suppress_ragged_eofs, server_hostname, session)\u001b[0m\n\u001b[1;32m    498\u001b[0m         \u001b[0;31m# SSLSocket class handles server_hostname encoding before it calls\u001b[0m\u001b[0;34m\u001b[0m\u001b[0;34m\u001b[0m\u001b[0;34m\u001b[0m\u001b[0m\n\u001b[1;32m    499\u001b[0m         \u001b[0;31m# ctx._wrap_socket()\u001b[0m\u001b[0;34m\u001b[0m\u001b[0;34m\u001b[0m\u001b[0;34m\u001b[0m\u001b[0m\n\u001b[0;32m--> 500\u001b[0;31m         return self.sslsocket_class._create(\n\u001b[0m\u001b[1;32m    501\u001b[0m             \u001b[0msock\u001b[0m\u001b[0;34m=\u001b[0m\u001b[0msock\u001b[0m\u001b[0;34m,\u001b[0m\u001b[0;34m\u001b[0m\u001b[0;34m\u001b[0m\u001b[0m\n\u001b[1;32m    502\u001b[0m             \u001b[0mserver_side\u001b[0m\u001b[0;34m=\u001b[0m\u001b[0mserver_side\u001b[0m\u001b[0;34m,\u001b[0m\u001b[0;34m\u001b[0m\u001b[0;34m\u001b[0m\u001b[0m\n",
      "\u001b[0;32m~/anaconda3/lib/python3.8/ssl.py\u001b[0m in \u001b[0;36m_create\u001b[0;34m(cls, sock, server_side, do_handshake_on_connect, suppress_ragged_eofs, server_hostname, context, session)\u001b[0m\n\u001b[1;32m   1038\u001b[0m                         \u001b[0;31m# non-blocking\u001b[0m\u001b[0;34m\u001b[0m\u001b[0;34m\u001b[0m\u001b[0;34m\u001b[0m\u001b[0m\n\u001b[1;32m   1039\u001b[0m                         \u001b[0;32mraise\u001b[0m \u001b[0mValueError\u001b[0m\u001b[0;34m(\u001b[0m\u001b[0;34m\"do_handshake_on_connect should not be specified for non-blocking sockets\"\u001b[0m\u001b[0;34m)\u001b[0m\u001b[0;34m\u001b[0m\u001b[0;34m\u001b[0m\u001b[0m\n\u001b[0;32m-> 1040\u001b[0;31m                     \u001b[0mself\u001b[0m\u001b[0;34m.\u001b[0m\u001b[0mdo_handshake\u001b[0m\u001b[0;34m(\u001b[0m\u001b[0;34m)\u001b[0m\u001b[0;34m\u001b[0m\u001b[0;34m\u001b[0m\u001b[0m\n\u001b[0m\u001b[1;32m   1041\u001b[0m             \u001b[0;32mexcept\u001b[0m \u001b[0;34m(\u001b[0m\u001b[0mOSError\u001b[0m\u001b[0;34m,\u001b[0m \u001b[0mValueError\u001b[0m\u001b[0;34m)\u001b[0m\u001b[0;34m:\u001b[0m\u001b[0;34m\u001b[0m\u001b[0;34m\u001b[0m\u001b[0m\n\u001b[1;32m   1042\u001b[0m                 \u001b[0mself\u001b[0m\u001b[0;34m.\u001b[0m\u001b[0mclose\u001b[0m\u001b[0;34m(\u001b[0m\u001b[0;34m)\u001b[0m\u001b[0;34m\u001b[0m\u001b[0;34m\u001b[0m\u001b[0m\n",
      "\u001b[0;32m~/anaconda3/lib/python3.8/ssl.py\u001b[0m in \u001b[0;36mdo_handshake\u001b[0;34m(self, block)\u001b[0m\n\u001b[1;32m   1307\u001b[0m             \u001b[0;32mif\u001b[0m \u001b[0mtimeout\u001b[0m \u001b[0;34m==\u001b[0m \u001b[0;36m0.0\u001b[0m \u001b[0;32mand\u001b[0m \u001b[0mblock\u001b[0m\u001b[0;34m:\u001b[0m\u001b[0;34m\u001b[0m\u001b[0;34m\u001b[0m\u001b[0m\n\u001b[1;32m   1308\u001b[0m                 \u001b[0mself\u001b[0m\u001b[0;34m.\u001b[0m\u001b[0msettimeout\u001b[0m\u001b[0;34m(\u001b[0m\u001b[0;32mNone\u001b[0m\u001b[0;34m)\u001b[0m\u001b[0;34m\u001b[0m\u001b[0;34m\u001b[0m\u001b[0m\n\u001b[0;32m-> 1309\u001b[0;31m             \u001b[0mself\u001b[0m\u001b[0;34m.\u001b[0m\u001b[0m_sslobj\u001b[0m\u001b[0;34m.\u001b[0m\u001b[0mdo_handshake\u001b[0m\u001b[0;34m(\u001b[0m\u001b[0;34m)\u001b[0m\u001b[0;34m\u001b[0m\u001b[0;34m\u001b[0m\u001b[0m\n\u001b[0m\u001b[1;32m   1310\u001b[0m         \u001b[0;32mfinally\u001b[0m\u001b[0;34m:\u001b[0m\u001b[0;34m\u001b[0m\u001b[0;34m\u001b[0m\u001b[0m\n\u001b[1;32m   1311\u001b[0m             \u001b[0mself\u001b[0m\u001b[0;34m.\u001b[0m\u001b[0msettimeout\u001b[0m\u001b[0;34m(\u001b[0m\u001b[0mtimeout\u001b[0m\u001b[0;34m)\u001b[0m\u001b[0;34m\u001b[0m\u001b[0;34m\u001b[0m\u001b[0m\n",
      "\u001b[0;31mKeyboardInterrupt\u001b[0m: "
     ]
    }
   ],
   "source": [
    "maindir=os.getcwd()\n",
    "for i in names_final:\n",
    "    page = \"https://www.gettyimages.in/photos/\"\n",
    "    if len(i)==2:\n",
    "        page+=i[0].replace(\"'\",\"\")+\"-\"+i[1].replace(\"'\",\"\")+\"?family=editorial&phrase=\"+i[0].replace(\"'\",\"\")+\"%20\"+i[1].replace(\"'\",\"\")\n",
    "        os.makedirs(i[0]+\" \"+i[1])\n",
    "        os.chdir(i[0]+\" \"+i[1])\n",
    "    elif len(i)==3:\n",
    "        page+=i[0].replace(\"'\",\"\")+\"-\"+i[1].replace(\"'\",\"\")+\"-\"+i[2].replace(\"'\",\"\")+\"?family=editorial&phrase=\"+i[0].replace(\"'\",\"\")+\"%20\"+i[1].replace(\"'\",\"\")+\"%20\"+i[2].replace(\"'\",\"\")\n",
    "        os.makedirs(i[0]+\" \"+i[1]+\" \"+i[2])\n",
    "        os.chdir(i[0]+\" \"+i[1]+\" \"+i[2])\n",
    "    else:\n",
    "        continue \n",
    "    page+=\"&sort=mostpopular\"\n",
    "    print(os.getcwd())\n",
    "    html = urlopen(page)\n",
    "    bs = BeautifulSoup(html, 'html.parser')\n",
    "    images = bs.find_all('img', {'src':re.compile('=')})\n",
    "    print(len(images))\n",
    "    for num,image in enumerate(images): \n",
    "        urllib.request.urlretrieve(image['src'], str(num)+\".jpg\")\n",
    "        if num==30:\n",
    "            break\n",
    "    os.chdir(maindir)\n",
    "    print(os.getcwd())"
   ]
  },
  {
   "cell_type": "code",
   "execution_count": null,
   "metadata": {},
   "outputs": [],
   "source": []
  }
 ],
 "metadata": {
  "kernelspec": {
   "display_name": "Python 3",
   "language": "python",
   "name": "python3"
  },
  "language_info": {
   "codemirror_mode": {
    "name": "ipython",
    "version": 3
   },
   "file_extension": ".py",
   "mimetype": "text/x-python",
   "name": "python",
   "nbconvert_exporter": "python",
   "pygments_lexer": "ipython3",
   "version": "3.8.3"
  }
 },
 "nbformat": 4,
 "nbformat_minor": 4
}
