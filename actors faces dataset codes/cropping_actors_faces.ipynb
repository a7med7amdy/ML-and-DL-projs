{
 "cells": [
  {
   "cell_type": "code",
   "execution_count": 1,
   "metadata": {},
   "outputs": [],
   "source": [
    "import os\n",
    "import cv2"
   ]
  },
  {
   "cell_type": "code",
   "execution_count": 2,
   "metadata": {},
   "outputs": [],
   "source": [
    "path= \"/home/ahmed/intern work/actor web scrapping/Python/home/inno/Hamdy/Untitled Folder\"\n",
    "actors= os.listdir(path)"
   ]
  },
  {
   "cell_type": "code",
   "execution_count": 5,
   "metadata": {},
   "outputs": [],
   "source": [
    "maindir= os.getcwd()\n",
    "for actor in actors:\n",
    "    images= os.listdir(path+\"/\"+actor)\n",
    "    os.chdir(maindir+\"/Untitled Folder\")\n",
    "    os.makedirs(actor)\n",
    "    os.chdir(actor)\n",
    "    for i in range(len(images)):\n",
    "        img= cv2.imread(path+\"/\"+actor+\"/\"+images[i])\n",
    "        img= cv2.resize(img,(400,400))\n",
    "        face=cv2.selectROI(img,False,False)\n",
    "        imCrop = img[int(face[1]):int(face[1]+face[3]), int(face[0]):int(face[0]+face[2])]\n",
    "        cv2.imshow(\"Image\", imCrop)\n",
    "        cv2.waitKey(0)\n",
    "        imRes= cv2.resize(imCrop,(100,100))\n",
    "        cv2.imshow(\"Image\", imRes)\n",
    "        cv2.waitKey(0)\n",
    "        cv2.destroyAllWindows()\n",
    "        cv2.imwrite(str(i)+\".jpg\",imRes)\n",
    "    os.chdir(maindir)"
   ]
  }
 ],
 "metadata": {
  "kernelspec": {
   "display_name": "Python 3",
   "language": "python",
   "name": "python3"
  },
  "language_info": {
   "codemirror_mode": {
    "name": "ipython",
    "version": 3
   },
   "file_extension": ".py",
   "mimetype": "text/x-python",
   "name": "python",
   "nbconvert_exporter": "python",
   "pygments_lexer": "ipython3",
   "version": "3.8.3"
  }
 },
 "nbformat": 4,
 "nbformat_minor": 4
}
